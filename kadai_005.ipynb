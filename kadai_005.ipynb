{
  "nbformat": 4,
  "nbformat_minor": 0,
  "metadata": {
    "colab": {
      "provenance": []
    },
    "kernelspec": {
      "name": "python3",
      "display_name": "Python 3"
    },
    "language_info": {
      "name": "python"
    }
  },
  "cells": [
    {
      "cell_type": "code",
      "execution_count": null,
      "metadata": {
        "colab": {
          "base_uri": "https://localhost:8080/"
        },
        "id": "-FejGD3YCIUT",
        "outputId": "5b880934-7373-48d5-9485-a316cb9bc347"
      },
      "outputs": [
        {
          "output_type": "stream",
          "name": "stdout",
          "text": [
            "75.0\n"
          ]
        }
      ],
      "source": [
        "the_top_side = 10\n",
        "the_bottom_side = 20\n",
        "the_height = 5\n",
        "print((the_top_side + the_bottom_side)*5/2)"
      ]
    }
  ]
}